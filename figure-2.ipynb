{
 "cells": [
  {
   "cell_type": "code",
   "execution_count": 1,
   "id": "623628d5",
   "metadata": {},
   "outputs": [
    {
     "name": "stdout",
     "output_type": "stream",
     "text": [
      "(array([[-0.33041807, -0.36650581, -0.85626947],\n",
      "       [ 0.75145792, -0.79022334, -0.09383658],\n",
      "       [-0.87763452, -0.89065082,  0.82977779]]), array([[ 0.43435539, -0.17127215, -0.91127844],\n",
      "       [-0.45193036, -0.60119803, -0.38274931],\n",
      "       [-0.15230833,  0.49656568, -0.84528719]]), array([[1.96040957, 0.        , 0.        ],\n",
      "       [0.        , 0.92531966, 0.        ],\n",
      "       [0.        , 0.        , 0.57379257]]), array([[ 5.60596536e-01,  8.32667268e-17, -1.38777878e-16],\n",
      "       [ 8.32667268e-17,  5.60596536e-01, -1.80411242e-16],\n",
      "       [-1.38777878e-16, -1.80411242e-16,  5.60596536e-01]]))\n"
     ]
    }
   ],
   "source": [
    "import gooseberry as gs\n",
    "\n",
    "import seaborn as sns\n",
    "import matplotlib.pyplot as plt\n",
    "import matplotlib as mpl\n",
    "import numpy as np\n",
    "\n",
    "import jax\n",
    "import jax.numpy as jnp\n",
    "\n",
    "from dynamics import QQT\n",
    "from tools import BlindColours, zero_balanced_weights"
   ]
  },
  {
   "cell_type": "code",
   "execution_count": 2,
   "id": "1b24df1c",
   "metadata": {},
   "outputs": [],
   "source": [
    "def logs(params, X, Y, out_dim):\n",
    "    w1 = params[\"network\"][\"layer-0\"][\"w\"][0]\n",
    "    w2 = params[\"network\"][\"layer-1\"][\"w\"][0]\n",
    "    ni, no = w1.shape[1], w2.shape[0]\n",
    "    w2w1 = w2 @ w1\n",
    "    w1w1 = w1.T @ w1\n",
    "    w2w2 = w2 @ w2.T\n",
    "    ntk = jnp.kron(jnp.identity(no), X @ (w1.T @ w1) @ X.T) + jnp.kron(w2 @ w2.T, X @ X.T)\n",
    "    return w2w1, w1w1, w2w2, ntk\n",
    "\n",
    "logs = jax.jit(logs)"
   ]
  },
  {
   "cell_type": "code",
   "execution_count": 3,
   "id": "975d86cd",
   "metadata": {},
   "outputs": [],
   "source": [
    "blind_colours = BlindColours().get_colours()"
   ]
  },
  {
   "cell_type": "code",
   "execution_count": 3,
   "id": "34f907f7",
   "metadata": {},
   "outputs": [],
   "source": [
    "np.random.seed(3)\n",
    "\n",
    "in_dim = 4\n",
    "hidden_dim = 5\n",
    "out_dim = 3\n",
    "\n",
    "batch_size = 10\n",
    "learning_rate = 0.05\n",
    "training_steps = 10000\n",
    "\n",
    "network_functions = []\n",
    "w1w1s = []\n",
    "w2w2s = []\n",
    "ntks = []\n",
    "lossess = []\n",
    "analyticalss = []\n",
    "\n",
    "init_w1, init_w2 = zero_balanced_weights(in_dim, hidden_dim, out_dim, .25)\n",
    "training_data, _, _ = gs.datasets.StudentTeacher(batch_size, [init_w1, init_w2], [gs.datasets.Whiten()])\n",
    "X, Y = training_data(None)\n",
    "\n",
    "for initial_weight_scale in [0.001, 0.15]:\n",
    "    network_function = []\n",
    "    w1w1 = []\n",
    "    w2w2 = []\n",
    "    ntk = []\n",
    "    losses = []\n",
    "    analyticals = np.zeros((training_steps, in_dim + out_dim, in_dim + out_dim))\n",
    "\n",
    "    task = gs.tasks.FullBatchLearning(training_data)\n",
    "    optimiser = gs.GradientDescent(learning_rate)\n",
    "    loss = gs.MeanSquaredError()\n",
    "\n",
    "    init_w1, init_w2 = zero_balanced_weights(in_dim, hidden_dim, out_dim, initial_weight_scale)\n",
    "\n",
    "    mlp = gs.Network([\n",
    "        gs.Linear(hidden_dim, bias=False, weight_init=gs.init.FromFixedValue(init_w1)),\n",
    "        gs.Linear(out_dim, bias=False, weight_init=gs.init.FromFixedValue(init_w2))\n",
    "    ])\n",
    "\n",
    "    trainer = gs.Trainer(task, mlp, loss, optimiser)\n",
    "    state, params = gs.assemble(1)\n",
    "\n",
    "    w1 = params[\"network\"][\"layer-0\"][\"w\"][0]\n",
    "    w2 = params[\"network\"][\"layer-1\"][\"w\"][0]\n",
    "    ni, no = w1.shape[1], w2.shape[0]\n",
    "    network_function.append(w2 @ w1)\n",
    "    w1w1.append(w1.T @ w1)\n",
    "    w2w2.append(w2 @ w2.T)\n",
    "    ntk.append(jnp.kron(jnp.identity(no), X @ (w1.T @ w1) @ X.T) + jnp.kron(w2 @ w2.T, X @ X.T))\n",
    "\n",
    "    for training_step in range(training_steps):\n",
    "        state, params, loss = trainer(state, params)\n",
    "        w2w1_, w1w1_, w2w2_, ntk_ = logs(params, X, Y, out_dim)\n",
    "        network_function.append(w2w1_)\n",
    "        w1w1.append(w1w1_)\n",
    "        w2w2.append(w2w2_)\n",
    "        ntk.append(ntk_)\n",
    "        losses.append(loss)\n",
    "    analytical = QQT(init_w1, init_w2, X.T, Y.T)\n",
    "    \n",
    "    for step in range(training_steps):\n",
    "        analyticals[step] = analytical.forward(learning_rate)\n",
    "\n",
    "    lossess.append(np.asarray(losses))\n",
    "    network_functions.append(np.asarray(network_function))\n",
    "    w1w1s.append(np.asarray(w1w1))\n",
    "    w2w2s.append(np.asarray(w2w2))\n",
    "    ntks.append(np.asarray(ntk))\n",
    "    analyticalss.append(analyticals)"
   ]
  },
  {
   "cell_type": "code",
   "execution_count": 6,
   "id": "8db15857",
   "metadata": {},
   "outputs": [
    {
     "data": {
      "text/plain": [
       "<Axes: >"
      ]
     },
     "execution_count": 6,
     "metadata": {},
     "output_type": "execute_result"
    },
    {
     "data": {
      "image/png": "[encoded data removed]",
      "text/plain": [
       "<Figure size 640x480 with 2 Axes>"
      ]
     },
     "metadata": {},
     "output_type": "display_data"
    }
   ],
   "source": [
    "t = training_data(None)[0]\n",
    "\n",
    "sns.heatmap(t.T @ t)\n"
   ]
  },
  {
   "cell_type": "code",
   "execution_count": 7,
   "id": "3c2fc451",
   "metadata": {},
   "outputs": [
    {
     "data": {
      "text/plain": [
       "(10, 4)"
      ]
     },
     "execution_count": 7,
     "metadata": {},
     "output_type": "execute_result"
    }
   ],
   "source": [
    "t.shape"
   ]
  },
  {
   "cell_type": "code",
   "execution_count": 12,
   "id": "b9d28de2",
   "metadata": {
    "scrolled": false
   },
   "outputs": [],
   "source": [
    "fig, axs_ = plt.subplots(2, 5, figsize=(14, 4.5), sharex=True)\n",
    "\n",
    "for mode in range(2):\n",
    "    axs = axs_[mode]\n",
    "    \n",
    "    axs[1].plot(network_functions[mode].reshape(-1, in_dim * out_dim), color=blind_colours[0])\n",
    "    w2w1 = analyticalss[mode][:, in_dim:, :in_dim]\n",
    "    axs[1].plot(w2w1.reshape(-1, in_dim * out_dim), c=\"k\", alpha=0.7, linestyle=(0, (1, 2)))\n",
    "    #axs[1].set_ylim(-0.38, 0.3)\n",
    "    #axs[1].set_yticks([ -0.2, 0., 0.2])\n",
    "    axs[1].set_ylabel(\"$W_2W_1(t)$\", fontsize=16)\n",
    "    \n",
    "    axs[0].plot(lossess[mode], color=blind_colours[6])\n",
    "    loss = []\n",
    "    loss = 0.5 * (out_dim / batch_size) * np.mean(np.sum((w2w1 @ X.T - Y.T)**2, axis=2), axis=1)\n",
    "    axs[0].plot(loss, c=\"k\", alpha=0.7, linestyle=(0, (1, 2)))\n",
    "    axs[0].set_ylim(-0.075, 0.8)\n",
    "    axs[0].set_yticks([0., 0.25, 0.5, 0.75])\n",
    "    axs[0].set_ylabel(\"Loss\")\n",
    "    \n",
    "    \n",
    "    axs[2].plot(w1w1s[mode].reshape(-1, in_dim * in_dim), color=blind_colours[2])\n",
    "    w1w1 = analyticalss[mode][:, :in_dim, :in_dim]\n",
    "    axs[2].plot(w1w1.reshape(-1, in_dim * in_dim), c=\"k\", alpha=0.7, linestyle=(0, (1, 2)))\n",
    "    axs[2].set_ylim(-0.3, 1.2)\n",
    "    axs[2].set_yticks([0., 0.5, 1.])\n",
    "    axs[2].set_ylabel(\"$W_1^TW_1(t)$\", fontsize=16)\n",
    "    \n",
    "    axs[3].plot(w2w2s[mode].reshape(-1, out_dim * out_dim), color=blind_colours[1])\n",
    "    w2w2 = analyticalss[mode][:, in_dim:, in_dim:]\n",
    "    axs[3].plot(w2w2.reshape(-1, out_dim * out_dim), c=\"k\", alpha=0.7, linestyle=(0, (1, 2)))\n",
    "    axs[3].set_ylim(-0.7, 1.1)\n",
    "    axs[3].set_yticks([-0.5, 0., 0.5, 1.])\n",
    "    axs[3].set_ylabel(\"$W_2W_2^T(t)$\", fontsize=16)\n",
    "    \n",
    "    axs[4].plot(ntks[mode].reshape(-1, out_dim*batch_size * out_dim*batch_size), color=blind_colours[3])\n",
    "    \n",
    "    ntk = np.kron(np.identity(out_dim), np.einsum(\"ab,cbd,de->cae\", X, w1w1, X.T)) + np.kron(w2w2, X@X.T) #  + np.einsum(\"a,bc,cd->abd\", np.trace(, axis1=1, axis2=2), X, X.T)\n",
    "    axs[4].plot(ntk.reshape(-1, out_dim*batch_size * out_dim*batch_size), c=\"k\", alpha=0.7, linestyle=(0, (1, 2)))\n",
    "    axs[4].set_ylabel(\"NTK$(t)$\", fontsize=16)\n",
    "    axs[4].set_ylim(-7, 8)\n",
    "    axs[4].set_yticks([-5, 0, 5])\n",
    "    \n",
    "    if mode == 1:\n",
    "        for i in range(5):\n",
    "            axs[i].set_xlabel(\"Training Steps\")\n",
    "    axs[0].set_xscale(\"log\")\n",
    "    axs[0].set_xticks([1., 100, 10000])\n",
    "sns.despine()\n",
    "fig.tight_layout()\n",
    "\n",
    "fig.savefig(\"./figures/figure-2_a-b.svg\")"
   ]
  },
  {
   "cell_type": "code",
   "execution_count": null,
   "id": "4e4632c3",
   "metadata": {},
   "outputs": [],
   "source": [
    "trai"
   ]
  },
  {
   "cell_type": "code",
   "execution_count": 5,
   "id": "77db2e52",
   "metadata": {},
   "outputs": [],
   "source": [
    "def loss_difference(loss1, loss2):\n",
    "    return np.mean((loss1 - loss2)**2)"
   ]
  },
  {
   "cell_type": "code",
   "execution_count": 6,
   "id": "8ba2a7c9",
   "metadata": {},
   "outputs": [
    {
     "name": "stdout",
     "output_type": "stream",
     "text": [
      "Run 49\r"
     ]
    }
   ],
   "source": [
    "network_functions = []\n",
    "lossess = []\n",
    "all_losses = {}\n",
    "all_analytical_losses = {}\n",
    "deviations = {}\n",
    "\n",
    "seeds_n = 50\n",
    "max_training_steps = 20000\n",
    "learning_rates = np.geomspace(0.05, 0.0005, 7)\n",
    "\n",
    "for seed in range(seeds_n):\n",
    "    print(\"Run\", seed, end=\"\\r\")\n",
    "    np.random.seed(seed)\n",
    "    \n",
    "    in_dim = np.random.randint(2, 51)\n",
    "    out_dim = np.random.randint(2, 51)\n",
    "    if in_dim == out_dim:\n",
    "        out_dim += 1\n",
    "    hidden_dim = np.random.randint(np.min([in_dim, out_dim]), 51)\n",
    "    max_dim = np.max([in_dim, out_dim, hidden_dim])\n",
    "    batch_size = np.random.randint(max_dim * 2, max_dim * 3)\n",
    "\n",
    "    training_data, _, _ = gs.datasets.RandomRegression(batch_size, in_dim, out_dim, [gs.datasets.Whiten()])\n",
    "    X, Y = training_data(None)\n",
    "    \n",
    "    # Initial weights\n",
    "    denom = np.sqrt(max_dim)\n",
    "    sigma = np.random.uniform(0.01 / denom, .5 / denom)\n",
    "    init_w1, init_w2 = zero_balanced_weights(in_dim, hidden_dim, out_dim, sigma)\n",
    "\n",
    "    deviations[seed] = {}\n",
    "    all_losses[seed] = {}\n",
    "    all_analytical_losses[seed] = {}\n",
    "    \n",
    "    for j, learning_rate in enumerate(learning_rates):\n",
    "        last_loss = -1\n",
    "        \n",
    "        all_losses[seed][j] = []\n",
    "        all_analytical_losses[seed][j] = []\n",
    "        deviations[seed][j] = []\n",
    "        \n",
    "        task = gs.tasks.FullBatchLearning(training_data)\n",
    "        optimiser = gs.GradientDescent(learning_rate)\n",
    "        loss = gs.MeanSquaredError()\n",
    "\n",
    "        losses = []\n",
    "\n",
    "        mlp = gs.Network([\n",
    "            gs.Linear(hidden_dim, bias=False, weight_init=gs.init.FromFixedValue(init_w1)),\n",
    "            gs.Linear(out_dim, bias=False, weight_init=gs.init.FromFixedValue(init_w2))\n",
    "        ])\n",
    "\n",
    "        trainer = gs.Trainer(task, mlp, loss, optimiser)\n",
    "        state, params = gs.assemble(1, seed)\n",
    "\n",
    "        for training_step in range(max_training_steps):\n",
    "            state, params, loss = trainer(state, params)\n",
    "            losses.append(loss)\n",
    "            \n",
    "            if training_step == 0:\n",
    "                initial_loss = loss\n",
    "            \n",
    "            if np.abs(last_loss - loss) < 1e-15 and loss < initial_loss - 0.02 and training_step > 10000:\n",
    "                break\n",
    "            last_loss = loss\n",
    "        training_step += 1\n",
    "        \n",
    "        analytical = QQT(init_w1, init_w2, X.T, Y.T, True)\n",
    "        analyticals = np.zeros((training_step, out_dim, in_dim))\n",
    "        for step in range(training_step):\n",
    "            analyticals[step] = analytical.forward(learning_rate)\n",
    "        w2w1 = np.asarray(analyticals)\n",
    "        \n",
    "        analytical_losses = 0.5 * (out_dim / batch_size) * np.mean(np.sum((w2w1 @ X.T - Y.T)**2, axis=2), axis=1)\n",
    "        analytical_losses = np.asarray(analytical_losses)\n",
    "        all_analytical_losses[seed][j].append(analytical_losses)\n",
    "        \n",
    "        losses = np.asarray(losses)[:, 0]\n",
    "        all_losses[seed][j].append(losses)\n",
    "        \n",
    "        deviations[seed][j].append(loss_difference(losses, analytical_losses))"
   ]
  },
  {
   "cell_type": "code",
   "execution_count": null,
   "id": "2c66da7a",
   "metadata": {},
   "outputs": [
    {
     "data": {
      "image/png": "[encoded data removed]",
      "text/plain": [
       "<Figure size 355x515 with 2 Axes>"
      ]
     },
     "metadata": {},
     "output_type": "display_data"
    }
   ],
   "source": [
    "np.random.seed(2)\n",
    "\n",
    "fig, axs = plt.subplots(2, 1, figsize=(3.55, 5.15))\n",
    "for seed in range(seeds_n):\n",
    "    dev = [deviations[seed][j] for j, _ in enumerate(learning_rates)]\n",
    "    if seed in []: # 1, 2, 6\n",
    "        axs[0].plot(learning_rates, dev, c=blind_colours[seed], alpha=0.8, zorder=3)\n",
    "    else:\n",
    "        axs[0].plot(learning_rates, dev, c=blind_colours[7], alpha=0.2, zorder=2)\n",
    "axs[0].set_yscale(\"log\")\n",
    "axs[0].set_ylim([0.000000000000001, 0.000005])\n",
    "axs[0].set_yticks([1e-6, 1e-10, 1e-14])\n",
    "axs[0].set_xticks([0.0005, 0.05])\n",
    "axs[0].set_xticklabels([\"0.0005\", \"0.05\"])\n",
    "axs[0].set_xlabel(\"$\\eta$\", fontsize=19, labelpad=-15)\n",
    "axs[0].set_ylabel(\"$MSE(\\\\hat{\\\\mathcal{L}}, \\\\mathcal{L})$\", fontsize=18)\n",
    "\n",
    "for i, seed in enumerate(np.random.choice(seeds_n, 5, replace=False)):\n",
    "    lr = np.random.choice(7)\n",
    "    color = blind_colours[i]\n",
    "    axs[0].scatter(learning_rates[lr], deviations[seed][lr], c=[color], zorder=2, marker=\"x\", s=100, lw=3.)\n",
    "    axs[1].plot(all_losses[seed][lr][0][:10000], c=color, lw=3.)\n",
    "    axs[1].plot(all_analytical_losses[seed][lr][0][:10000], c=\"k\", alpha=0.7, lw=3., linestyle=(0, (1, 2)))\n",
    "\n",
    "axs[1].loglog()\n",
    "axs[1].set_xticks([1, 100, 10000])\n",
    "axs[1].set_ylim([0.28, 1.1])\n",
    "axs[1].set_yticks([1., 0.7, 0.4])\n",
    "axs[1].set_yticklabels([1, 0.7, 0.4])\n",
    "axs[1].set_xlabel(\"Training Steps\")\n",
    "axs[1].set_ylabel(\"Loss\", labelpad=20)\n",
    "axs[1].yaxis.set_minor_formatter(mpl.ticker.NullFormatter())\n",
    "\n",
    "fig.tight_layout()\n",
    "sns.despine()\n",
    "\n",
    "fig.savefig(\"./figures/figure-2_c-d.svg\")"
   ]
  },
  {
   "cell_type": "code",
   "execution_count": null,
   "id": "ccf9c687",
   "metadata": {},
   "outputs": [],
   "source": [
    "#TODO:\n",
    "\n",
    "#1. Define Forgetting Formula.\n",
    "\n",
    "#2. Do Gradient Descent and Plot Forgetting\n",
    "\n",
    "#3. Plot Forgetting using QQt\n",
    "\n",
    "#4. Plot rate of forgetting using Gradient Descent\n",
    "\n",
    "#5. Plot rate of forgetting using QQt"
   ]
  },
  {
   "cell_type": "code",
   "execution_count": null,
   "id": "3e6f3fa5",
   "metadata": {},
   "outputs": [],
   "source": [
    "#Defining the forgetting Formula\n",
    "\n",
    "\n",
    "#Forgetting F on task T_i when training on task T_k after having trained the network on task T_j\n",
    "#F_i(T_j, T_k) = L_i(T_k) - L_i(T_j)\n",
    "\n",
    "def loss(W1, W2, X, Y):\n",
    "    return 0.5 * (out_dim / batch_size) * np.mean(np.sum((W2 @ W1 @ X - Y)**2, axis=0))\n",
    "\n",
    "def forgetting(W1, W2, Xj, Yj, Xk, Yk):\n",
    "    return loss(W1, W2, Xk, Yk) - loss(W1, W2, Xj, Yj)"
   ]
  },
  {
   "cell_type": "code",
   "execution_count": 8,
   "id": "20b5cf16",
   "metadata": {},
   "outputs": [],
   "source": [
    "def train_network(train, learning_rate, in_dim, hidden_dim, out_dim, init_w1, init_w2, training_steps):\n",
    "\n",
    "\n",
    "    task = gs.tasks.FullBatchLearning(train)\n",
    "\n",
    "\n",
    "    optimiser = gs.GradientDescent(learning_rate)\n",
    "    loss = gs.MeanSquaredError()\n",
    "\n",
    "    # init_w1, init_w2 = zero_balanced_weights(in_dim, hidden_dim, out_dim, 0.5)\n",
    "\n",
    "    mlp = gs.Network([\n",
    "        gs.Linear(hidden_dim, bias=False, weight_init=gs.init.FromFixedValue(init_w1)),\n",
    "        gs.Linear(out_dim, bias=False, weight_init=gs.init.FromFixedValue(init_w2))\n",
    "    ])\n",
    "\n",
    "    trainer = gs.Trainer(task, mlp, loss, optimiser)\n",
    "    state, params = gs.assemble(1)\n",
    "    losses = []\n",
    "    ws = []\n",
    "\n",
    "    ws = [params[\"network\"][\"layer-1\"][\"w\"] @ params[\"network\"][\"layer-0\"][\"w\"]]\n",
    "\n",
    "    for training_step in range(training_steps):\n",
    "        state, params, loss = trainer(state, params)\n",
    "        losses.append(loss)\n",
    "        ws.append(params[\"network\"][\"layer-1\"][\"w\"] @ params[\"network\"][\"layer-0\"][\"w\"])\n",
    "\n",
    "    return losses, ws\n"
   ]
  },
  {
   "cell_type": "code",
   "execution_count": 7,
   "id": "cf5bfdad",
   "metadata": {},
   "outputs": [],
   "source": [
    "def computationalSolution(qqtTask):\n",
    "    # Now, generate the computational solution\n",
    "    losses, ws = train_network(train=qqtTask.train,\n",
    "                               learning_rate=qqtTask.learning_rate,\n",
    "                               in_dim=qqtTask.in_dim,\n",
    "                               hidden_dim=qqtTask.hidden_dim,\n",
    "                               out_dim=qqtTask.out_dim,\n",
    "                               init_w1=qqtTask.init_w1,\n",
    "                               init_w2=qqtTask.init_w2,\n",
    "                               training_steps=qqtTask.training_steps)\n",
    "\n",
    "    return losses, ws\n",
    "\n",
    "\n"
   ]
  },
  {
   "cell_type": "code",
   "execution_count": null,
   "id": "67eb10c5",
   "metadata": {},
   "outputs": [],
   "source": []
  },
  {
   "cell_type": "code",
   "execution_count": null,
   "id": "cf265461",
   "metadata": {},
   "outputs": [],
   "source": [
    "\"\"\"\n",
    "Now that we have the formulae defined, we just have to implement the computational solution \n",
    "using gradient descnet and the analytical QQt and store the forgetting for each task.\n",
    "\"\"\"\n",
    "#initialise network, train using GD\n",
    "\n",
    "initial_scale = 0.5\n",
    "\n",
    "w1_i, w2_i = zero_balanced_weights(in_dim, hidden_dim, out_dim, initial_scale * 2)\n",
    "w1_j, w2_j = zero_balanced_weights(in_dim, hidden_dim, out_dim, initial_scale * 2)\n",
    "w1_k, w2_k = zero_balanced_weights(in_dim, hidden_dim, out_dim, initial_scale * 2)\n",
    "\n",
    "train, _, _ = gs.datasets.StudentTeacher(batch_size, [w1_k, w2_k], [gs.datasets.Whiten()])\n",
    "\n",
    "losses, ws = train_network(train=)\n",
    "\n",
    "\n",
    "print everything\n",
    "\n"
   ]
  },
  {
   "cell_type": "code",
   "execution_count": null,
   "id": "fc9c98f4",
   "metadata": {},
   "outputs": [],
   "source": []
  },
  {
   "cell_type": "code",
   "execution_count": null,
   "id": "4b0d139d",
   "metadata": {},
   "outputs": [],
   "source": []
  }
 ],
 "metadata": {
  "kernelspec": {
   "display_name": "Python 3 (ipykernel)",
   "language": "python",
   "name": "python3"
  },
  "language_info": {
   "codemirror_mode": {
    "name": "ipython",
    "version": 3
   },
   "file_extension": ".py",
   "mimetype": "text/x-python",
   "name": "python",
   "nbconvert_exporter": "python",
   "pygments_lexer": "ipython3",
   "version": "3.11.7"
  }
 },
 "nbformat": 4,
 "nbformat_minor": 5
}
