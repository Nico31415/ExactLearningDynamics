{
 "cells": [
  {
   "cell_type": "code",
   "execution_count": 1,
   "id": "bf3356a0",
   "metadata": {},
   "outputs": [
    {
     "name": "stdout",
     "output_type": "stream",
     "text": [
      "(array([[ 0.384667  ,  0.73107481, -0.07200569],\n",
      "       [-0.0538093 ,  0.49072537, -0.71782841],\n",
      "       [-0.32077237,  0.69134848,  0.59907533]]), array([[-0.27674563,  0.94327491, -0.03788915],\n",
      "       [ 0.29511087, -0.01591302,  1.21398701],\n",
      "       [-1.02967796, -0.63659645,  0.02898608]]), array([[1.49871434, 0.        , 0.        ],\n",
      "       [0.        , 1.16577066, 0.        ],\n",
      "       [0.        , 0.        , 0.38851891]]), array([[-5.36291357e-01, -3.88578059e-16,  1.11022302e-16],\n",
      "       [-3.88578059e-16, -5.36291357e-01,  5.13478149e-16],\n",
      "       [ 1.11022302e-16,  5.13478149e-16, -5.36291357e-01]]))\n"
     ]
    }
   ],
   "source": [
    "import gooseberry as gs\n",
    "\n",
    "import matplotlib.pyplot as plt\n",
    "import numpy as np\n",
    "\n",
    "from tools import BlindColours, zero_balanced_weights\n",
    "from scipy.linalg import fractional_matrix_power\n"
   ]
  },
  {
   "cell_type": "code",
   "execution_count": 2,
   "id": "e1407c11",
   "metadata": {},
   "outputs": [],
   "source": [
    "import gooseberry as gs\n",
    "from dynamics import QQT\n",
    "from tools import BlindColours, zero_balanced_weights\n",
    "\n",
    "import matplotlib.pyplot as plt\n",
    "import seaborn as sns\n",
    "import numpy as np"
   ]
  },
  {
   "cell_type": "code",
   "execution_count": 1,
   "id": "62bcb228",
   "metadata": {},
   "outputs": [
    {
     "name": "stdout",
     "output_type": "stream",
     "text": [
      "(array([[-0.47243484, -0.31724642, -0.33922846],\n",
      "       [-0.9521861 ,  0.92957597,  0.36095479],\n",
      "       [-0.21315798,  0.17052824, -1.25132314]]), array([[ 0.25421048,  0.07096245,  1.36845271],\n",
      "       [-0.77485618, -0.4115433 , -0.11306084],\n",
      "       [-0.21531254,  1.41390356, -0.16537496]]), array([[2.07478631, 0.        , 0.        ],\n",
      "       [0.        , 1.89462489, 0.        ],\n",
      "       [0.        , 0.        , 0.38695038]]), array([[-2.72468640e-01, -7.63278329e-17, -4.99600361e-16],\n",
      "       [-7.63278329e-17, -2.72468640e-01, -1.52655666e-16],\n",
      "       [-4.99600361e-16, -1.52655666e-16, -2.72468640e-01]]))\n"
     ]
    }
   ],
   "source": [
    "import gooseberry as gs\n",
    "\n",
    "import matplotlib.pyplot as plt\n",
    "import numpy as np\n",
    "from scipy.linalg import fractional_matrix_power\n",
    "\n",
    "from tools import BlindColours, zero_balanced_weights\n",
    "from scipy.linalg import fractional_matrix_power\n",
    "\n",
    "\n",
    "np.random.seed(1)\n",
    "\n",
    "class QQTTask:\n",
    "\n",
    "    def __init__(self,\n",
    "                 in_dim,\n",
    "                 hidden_dim,\n",
    "                 out_dim,\n",
    "                 initial_scale,\n",
    "                 batch_size,\n",
    "                 learning_rate,\n",
    "                 training_steps):\n",
    "\n",
    "        self.in_dim = in_dim\n",
    "        self.hidden_dim = hidden_dim\n",
    "        self.out_dim = out_dim\n",
    "        self.initial_scale = initial_scale\n",
    "        self.batch_size= batch_size\n",
    "        self.learning_rate = learning_rate\n",
    "        self.training_steps = training_steps\n",
    "\n",
    "\n",
    "        self.tau = 1 / learning_rate\n",
    "\n",
    "        #define weights for student teacher network - used for SIMULATION\n",
    "        self.data_w1, self.data_w2 = zero_balanced_weights(in_dim, hidden_dim, out_dim, initial_scale * 2)\n",
    "        self.train, _, _ = gs.datasets.StudentTeacher(batch_size, [self.data_w1, self.data_w2], [gs.datasets.Whiten()])\n",
    "\n",
    "        (self.X, self.Y) = self.train(None)\n",
    "        self.task = gs.tasks.FullBatchLearning(self.train)\n",
    "        self.optimiser = gs.GradientDescent(self.learning_rate)\n",
    "        self.loss = gs.MeanSquaredError()\n",
    "\n",
    "\n",
    "        #define initial weights for training - used for SIMULATION AND ANALYTICAL\n",
    "        self.init_w1, self.init_w2 = zero_balanced_weights(in_dim, hidden_dim, out_dim, initial_scale)\n",
    "\n",
    "        self.mlp = gs.Network([\n",
    "            gs.Linear(hidden_dim, bias = False, weight_init=gs.init.FromFixedValue(self.init_w1)),\n",
    "            gs.Linear(out_dim, bias=False, weight_init=gs.init.FromFixedValue(self.init_w2))\n",
    "        ])\n",
    "\n",
    "        #print('batch size: ', self.batch_size)\n",
    "\n",
    "        self.sigma_xy_target = (1 / self.batch_size) * self.Y @ self.X.T\n",
    "        \n",
    "        print(self.Y)\n",
    "        print(self.X)\n",
    "        print(self.batch_size)\n",
    "        self.U_, self.S_, self.Vt_ = np.linalg.svd(self.sigma_xy_target)\n",
    "        self.V_ = self.Vt_.T\n",
    "\n",
    "\n",
    "\n",
    "\n",
    "        #for now zero balanced weights\n",
    "        self.c = 0\n",
    "\n",
    "        # have to define F, Q0,O\n",
    "        self.q0 = np.vstack([self.init_w1.T,\n",
    "                             self.init_w2])\n",
    "\n",
    "        self.qqt0 = self.q0 @ self.q0.T\n",
    "\n",
    "        self.F = np.vstack([\n",
    "            np.hstack([self.c/2 * np.eye(self.sigma_xy_target.shape[1]), self.sigma_xy_target.T]),\n",
    "            np.hstack([self.sigma_xy_target, self.c/2 * np.eye(self.sigma_xy_target.shape[0])])\n",
    "        ])\n",
    "\n",
    "        self.F_inv = np.linalg.inv(self.F)\n",
    "\n",
    "        self.O = 1/np.sqrt(2) * np.vstack([np.hstack([self.Vt_.T, self.Vt_.T]), np.hstack([self.U_, -self.U_])])\n",
    "\n",
    "        self.lmda = np.vstack([\n",
    "            np.hstack([self.S_, np.zeros(self.S_.shape)]),\n",
    "            np.hstack([np.zeros(self.S_.shape), self.S_])\n",
    "        ])\n",
    "        \n",
    "    def getw2w1(self, qqt):\n",
    "        return qqt[-self.required_shape[0]:, :self.required_shape[1]]\n",
    "\n",
    "\n",
    "\n",
    "\n",
    "\n",
    "        #Defining all variables required for the analytical solution\n",
    "\n"
   ]
  },
  {
   "cell_type": "code",
   "execution_count": 2,
   "id": "3b1ada91",
   "metadata": {},
   "outputs": [
    {
     "name": "stdout",
     "output_type": "stream",
     "text": [
      "[[-1.05829722e-05  7.24227311e-06  7.02472607e-05  3.26261397e-05\n",
      "  -1.92043281e-05  3.86438696e-05  2.82323945e-05 -1.44171945e-05]\n",
      " [ 3.32360323e-05  1.83287775e-05 -1.16897627e-05  1.36106182e-05\n",
      "   5.86502665e-06 -3.09290299e-05  3.49731963e-05  1.90321407e-05]\n",
      " [-9.55543237e-06  1.91367690e-06  3.37384358e-06 -3.20578038e-05\n",
      "   1.45772647e-05  2.30321330e-05 -1.79673243e-05 -4.46544209e-06]\n",
      " [-6.64448016e-05  2.76319952e-05 -9.50801477e-05 -6.28222551e-05\n",
      "   1.97374811e-05  4.68253493e-05  1.90086303e-05  1.04431101e-05]\n",
      " [ 1.44365831e-05 -4.56268572e-05  4.05118553e-05  4.48242608e-05\n",
      "  -3.29296126e-05 -3.00902830e-05 -4.09518761e-05 -2.84923426e-05]\n",
      " [-4.41876437e-05  4.47056518e-05 -1.55482194e-05 -2.29989000e-05\n",
      "   8.94226378e-06  7.30568063e-05  4.63282886e-05  2.44868625e-05]\n",
      " [ 6.93493712e-05 -2.82475230e-05  1.36699291e-05  2.61313962e-05\n",
      "   1.74395882e-05 -7.66432131e-05 -5.08728735e-05  7.31568753e-06]\n",
      " [ 1.37497009e-05 -2.59482276e-05 -5.48843718e-06  6.83766700e-07\n",
      "  -1.44267715e-05 -4.38986754e-05 -1.87513833e-05 -1.39022077e-05]]\n",
      "[[ 2.3648772e-02 -5.3305352e-01  3.1480368e-02  1.9409026e-01\n",
      "  -5.2811828e-04 -4.9747768e-01 -2.5253599e+00  2.2738877e-01]\n",
      " [ 9.8556530e-01 -9.9343938e-01  1.5101866e+00 -1.1145918e+00\n",
      "   4.4280480e-04 -4.2745429e-01  5.4026693e-01 -1.0218396e+00]\n",
      " [-6.8250895e-01 -2.8279424e-01 -1.6071299e+00  3.6906177e-01\n",
      "  -2.1272746e-04 -2.8765246e-01  3.4502667e-01 -1.8797206e+00]\n",
      " [ 7.9945272e-01 -8.8249582e-01  3.8017724e-02  1.5857687e+00\n",
      "   5.2384712e-04  1.6252530e+00  4.3556553e-01  4.8456708e-01]\n",
      " [ 9.6793061e-01  2.2438631e+00 -8.1194334e-02 -4.7068295e-01\n",
      "  -2.3830052e-04  7.7025467e-01 -2.8911129e-01 -3.5096255e-01]\n",
      " [-2.1219932e-01  7.6319313e-01  6.1435705e-01  1.3282901e+00\n",
      "   5.6978599e-05 -1.8014075e+00  7.5550735e-01  6.4409667e-01]\n",
      " [ 3.1811976e-01 -4.7628653e-01 -1.3978767e+00 -1.3290712e+00\n",
      "  -3.7916441e-04 -3.2950222e-01  5.8714926e-01  1.5805525e+00]\n",
      " [-2.2000091e+00  1.6101286e-01  8.9215881e-01 -5.6286496e-01\n",
      "   2.0009543e-04  9.4798684e-01  1.5095514e-01  3.1591812e-01]]\n",
      "8\n"
     ]
    }
   ],
   "source": [
    "qqtTask = QQTTask(in_dim=8,\n",
    "                  hidden_dim=8,\n",
    "                  out_dim=8,\n",
    "                  initial_scale=0.001,\n",
    "                  batch_size=8,\n",
    "                  learning_rate=0.001,\n",
    "                  training_steps=200)"
   ]
  },
  {
   "cell_type": "code",
   "execution_count": 3,
   "id": "f199db61",
   "metadata": {
    "scrolled": true
   },
   "outputs": [],
   "source": [
    "#implementing simulation first\n",
    "\n",
    "\n",
    "trainer = gs.Trainer(qqtTask.task, qqtTask.mlp, qqtTask.loss, qqtTask.optimiser)\n",
    "state, params = gs.assemble(1)\n",
    "\n",
    "losses = []\n",
    "ws = [params[\"network\"][\"layer-1\"][\"w\"] @ params[\"network\"][\"layer-0\"][\"w\"]]\n",
    "\n",
    "for training_step in range(qqtTask.training_steps):\n",
    "    state, params, loss = trainer(state, params)\n",
    "    losses.append(loss)\n",
    "    ws.append(params[\"network\"][\"layer-1\"][\"w\"] @ params[\"network\"][\"layer-0\"][\"w\"])"
   ]
  },
  {
   "cell_type": "code",
   "execution_count": 4,
   "id": "3d9e1a6d",
   "metadata": {},
   "outputs": [],
   "source": [
    "#plotting simulation"
   ]
  },
  {
   "cell_type": "code",
   "execution_count": 6,
   "id": "9cea88fc",
   "metadata": {},
   "outputs": [
    {
     "ename": "AttributeError",
     "evalue": "'QQTTask' object has no attribute 'required_shape'",
     "output_type": "error",
     "traceback": [
      "\u001b[0;31m---------------------------------------------------------------------------\u001b[0m",
      "\u001b[0;31mAttributeError\u001b[0m                            Traceback (most recent call last)",
      "Cell \u001b[0;32mIn [6], line 4\u001b[0m\n\u001b[1;32m      1\u001b[0m \u001b[38;5;66;03m#implementing analytical solution from (4)\u001b[39;00m\n\u001b[1;32m      3\u001b[0m QQts \u001b[38;5;241m=\u001b[39m [qqtTask\u001b[38;5;241m.\u001b[39mqqt0]\n\u001b[0;32m----> 4\u001b[0m w2w1s \u001b[38;5;241m=\u001b[39m [\u001b[43mqqtTask\u001b[49m\u001b[38;5;241;43m.\u001b[39;49m\u001b[43mgetw2w1\u001b[49m\u001b[43m(\u001b[49m\u001b[43mqqtTask\u001b[49m\u001b[38;5;241;43m.\u001b[39;49m\u001b[43mqqt0\u001b[49m\u001b[43m)\u001b[49m]\n\u001b[1;32m      5\u001b[0m losses \u001b[38;5;241m=\u001b[39m []\n\u001b[1;32m      7\u001b[0m \u001b[38;5;28;01mfor\u001b[39;00m t \u001b[38;5;129;01min\u001b[39;00m \u001b[38;5;28mrange\u001b[39m(qqtTask\u001b[38;5;241m.\u001b[39mtraining_steps):\n",
      "Cell \u001b[0;32mIn [1], line 90\u001b[0m, in \u001b[0;36mQQTTask.getw2w1\u001b[0;34m(self, qqt)\u001b[0m\n\u001b[1;32m     89\u001b[0m \u001b[38;5;28;01mdef\u001b[39;00m \u001b[38;5;21mgetw2w1\u001b[39m(\u001b[38;5;28mself\u001b[39m, qqt):\n\u001b[0;32m---> 90\u001b[0m     \u001b[38;5;28;01mreturn\u001b[39;00m qqt[\u001b[38;5;241m-\u001b[39m\u001b[38;5;28;43mself\u001b[39;49m\u001b[38;5;241;43m.\u001b[39;49m\u001b[43mrequired_shape\u001b[49m[\u001b[38;5;241m0\u001b[39m]:, :\u001b[38;5;28mself\u001b[39m\u001b[38;5;241m.\u001b[39mrequired_shape[\u001b[38;5;241m1\u001b[39m]]\n",
      "\u001b[0;31mAttributeError\u001b[0m: 'QQTTask' object has no attribute 'required_shape'"
     ]
    }
   ],
   "source": [
    "#implementing analytical solution from (4)\n",
    "\n",
    "QQts = [qqtTask.qqt0]\n",
    "w2w1s = [qqtTask.getw2w1(qqtTask.qqt0)]\n",
    "losses = []\n",
    "\n",
    "for t in range(qqtTask.training_steps):\n",
    "    e_ft = np.exp((t / qqtTask.tau) * qqtTask.F)\n",
    "    \n",
    "    out = e_ft @ qqtTask.q0\n",
    "    \n",
    "    centre_centre_centre = (e_ft @ qqtTask.F_inv @ e_ft - qqtTask.F_inv)\n",
    "    centre_centre = 1/2 * qqtTask.qqt0.T @ centre_centre_centre @ qqtTask.qqt0\n",
    "    centre = np.linalg.inv(np.eye(centre_centre.shape[0]) + centre_centre)\n",
    "    next_val = out @ centre @ out.T\n",
    "    \n",
    "    QQts.append(next_val)\n",
    "    w2w1s.append(qqtTask.getw2w1(next_val))\n",
    "    curr_weight = w2w1s[-1]\n",
    "    loss = (1 / 2) * np.linalg.norm(qqtTask.Y - np.matmul(qqtTask.X, curr_weight)) ** 2\n",
    "    losses.append(loss)\n",
    "\n",
    "\n"
   ]
  },
  {
   "cell_type": "code",
   "execution_count": null,
   "id": "b913635d",
   "metadata": {},
   "outputs": [],
   "source": [
    "import gooseberry as gs"
   ]
  },
  {
   "cell_type": "code",
   "execution_count": null,
   "id": "ab182d6f",
   "metadata": {},
   "outputs": [],
   "source": [
    "gs.assemble(1)"
   ]
  },
  {
   "cell_type": "code",
   "execution_count": null,
   "id": "88821883",
   "metadata": {},
   "outputs": [],
   "source": []
  },
  {
   "cell_type": "code",
   "execution_count": 15,
   "id": "2d210c75",
   "metadata": {},
   "outputs": [],
   "source": [
    "import torch\n",
    "import torch.nn as nn\n",
    "import torch.optim as optim"
   ]
  },
  {
   "cell_type": "code",
   "execution_count": 16,
   "id": "6be82279",
   "metadata": {},
   "outputs": [],
   "source": [
    "class TwoLayerLinearNN(nn.Module):\n",
    "    def __init__(self, input_dim, hidden_dim, output_dim):\n",
    "        super(TwoLayerLinearNN, self).__init__()\n",
    "        self.layer1 = nn.Linear(input_dim, hidden_dim)\n",
    "        self.layer2 = nn.Linear(hidden_dim, output_dim)\n",
    "        \n",
    "    def forward(self, x):\n",
    "        x = torch.relu(self.layer1(x))\n",
    "        x = self.layer2(x)\n",
    "        return x"
   ]
  },
  {
   "cell_type": "code",
   "execution_count": 17,
   "id": "8464fd2f",
   "metadata": {},
   "outputs": [],
   "source": [
    "model = TwoLayerLinearNN(qqtTask.in_dim, qqtTask.hidden_dim, qqtTask.out_dim)"
   ]
  },
  {
   "cell_type": "code",
   "execution_count": 37,
   "id": "3d8e98de",
   "metadata": {},
   "outputs": [],
   "source": [
    "criterion = nn.MSELoss()\n",
    "optimizer = optim.SGD(model.parameters(), lr=qqtTask.learning_rate)\n",
    "\n",
    "ws = []\n",
    "losses = []\n",
    "\n",
    "tensor_X = torch.from_numpy(jax.device_get(qqtTask.X))\n",
    "for epoch in range(qqtTask.training_steps):\n",
    "    output = model(tensor_X)\n",
    "    loss = criterion(output, tensor_X)\n",
    "    \n",
    "    #backward pass and optimisation\n",
    "    optimizer.zero_grad()\n",
    "    loss.backward()\n",
    "    optimizer.step()\n",
    "    \n",
    "    #record the evolution\n",
    "    ws.append(model.layer1.weight.data.numpy() @ model.layer2.weight.data.numpy())\n",
    "    losses.append(loss.item())"
   ]
  },
  {
   "cell_type": "code",
   "execution_count": 44,
   "id": "44f1cf3f",
   "metadata": {},
   "outputs": [
    {
     "data": {
      "text/plain": [
       "[<matplotlib.lines.Line2D at 0x290354640>,\n",
       " <matplotlib.lines.Line2D at 0x290354670>,\n",
       " <matplotlib.lines.Line2D at 0x29032c9a0>,\n",
       " <matplotlib.lines.Line2D at 0x29032c9d0>,\n",
       " <matplotlib.lines.Line2D at 0x2903546a0>,\n",
       " <matplotlib.lines.Line2D at 0x290354910>,\n",
       " <matplotlib.lines.Line2D at 0x290354a00>,\n",
       " <matplotlib.lines.Line2D at 0x290354af0>,\n",
       " <matplotlib.lines.Line2D at 0x290354be0>,\n",
       " <matplotlib.lines.Line2D at 0x290354cd0>,\n",
       " <matplotlib.lines.Line2D at 0x290354dc0>,\n",
       " <matplotlib.lines.Line2D at 0x290354eb0>,\n",
       " <matplotlib.lines.Line2D at 0x290354fa0>,\n",
       " <matplotlib.lines.Line2D at 0x290355090>,\n",
       " <matplotlib.lines.Line2D at 0x290355240>,\n",
       " <matplotlib.lines.Line2D at 0x290355330>,\n",
       " <matplotlib.lines.Line2D at 0x290355420>,\n",
       " <matplotlib.lines.Line2D at 0x290355510>,\n",
       " <matplotlib.lines.Line2D at 0x290355600>,\n",
       " <matplotlib.lines.Line2D at 0x2903556f0>,\n",
       " <matplotlib.lines.Line2D at 0x2903557e0>,\n",
       " <matplotlib.lines.Line2D at 0x2903558d0>,\n",
       " <matplotlib.lines.Line2D at 0x2903559c0>,\n",
       " <matplotlib.lines.Line2D at 0x290355ab0>,\n",
       " <matplotlib.lines.Line2D at 0x290355ba0>,\n",
       " <matplotlib.lines.Line2D at 0x290355c90>,\n",
       " <matplotlib.lines.Line2D at 0x290355d80>,\n",
       " <matplotlib.lines.Line2D at 0x290355e70>,\n",
       " <matplotlib.lines.Line2D at 0x290355f60>,\n",
       " <matplotlib.lines.Line2D at 0x290356050>,\n",
       " <matplotlib.lines.Line2D at 0x290356140>,\n",
       " <matplotlib.lines.Line2D at 0x290356230>,\n",
       " <matplotlib.lines.Line2D at 0x290356320>,\n",
       " <matplotlib.lines.Line2D at 0x290356410>,\n",
       " <matplotlib.lines.Line2D at 0x290356500>,\n",
       " <matplotlib.lines.Line2D at 0x2903565f0>,\n",
       " <matplotlib.lines.Line2D at 0x2903566e0>,\n",
       " <matplotlib.lines.Line2D at 0x2903567d0>,\n",
       " <matplotlib.lines.Line2D at 0x2903568c0>,\n",
       " <matplotlib.lines.Line2D at 0x290355210>,\n",
       " <matplotlib.lines.Line2D at 0x290356a40>,\n",
       " <matplotlib.lines.Line2D at 0x290356b30>,\n",
       " <matplotlib.lines.Line2D at 0x290356c20>,\n",
       " <matplotlib.lines.Line2D at 0x290356d10>,\n",
       " <matplotlib.lines.Line2D at 0x290356e00>,\n",
       " <matplotlib.lines.Line2D at 0x290356ef0>,\n",
       " <matplotlib.lines.Line2D at 0x290356fe0>,\n",
       " <matplotlib.lines.Line2D at 0x2903570d0>,\n",
       " <matplotlib.lines.Line2D at 0x2903571c0>,\n",
       " <matplotlib.lines.Line2D at 0x2903572b0>,\n",
       " <matplotlib.lines.Line2D at 0x2903573a0>,\n",
       " <matplotlib.lines.Line2D at 0x290357490>,\n",
       " <matplotlib.lines.Line2D at 0x290357580>,\n",
       " <matplotlib.lines.Line2D at 0x290357670>,\n",
       " <matplotlib.lines.Line2D at 0x290357760>,\n",
       " <matplotlib.lines.Line2D at 0x290357850>,\n",
       " <matplotlib.lines.Line2D at 0x290357940>,\n",
       " <matplotlib.lines.Line2D at 0x290357a30>,\n",
       " <matplotlib.lines.Line2D at 0x290357b20>,\n",
       " <matplotlib.lines.Line2D at 0x290357c10>,\n",
       " <matplotlib.lines.Line2D at 0x290357d00>,\n",
       " <matplotlib.lines.Line2D at 0x290357df0>,\n",
       " <matplotlib.lines.Line2D at 0x290357ee0>,\n",
       " <matplotlib.lines.Line2D at 0x290357fd0>]"
      ]
     },
     "execution_count": 44,
     "metadata": {},
     "output_type": "execute_result"
    },
    {
     "data": {
      "image/png": "[encoded data removed]",
      "text/plain": [
       "<Figure size 640x480 with 1 Axes>"
      ]
     },
     "metadata": {},
     "output_type": "display_data"
    }
   ],
   "source": [
    "ws = np.array(ws)\n",
    "\n",
    "plt.plot(ws.reshape(ws.shape[0], -1), color = 'red')"
   ]
  },
  {
   "cell_type": "code",
   "execution_count": 25,
   "id": "5da1c63f",
   "metadata": {},
   "outputs": [
    {
     "data": {
      "text/plain": [
       "jaxlib.xla_extension.ArrayImpl"
      ]
     },
     "execution_count": 25,
     "metadata": {},
     "output_type": "execute_result"
    }
   ],
   "source": [
    "type(qqtTask.X)"
   ]
  },
  {
   "cell_type": "code",
   "execution_count": 29,
   "id": "d88a51b5",
   "metadata": {},
   "outputs": [],
   "source": [
    "import jax"
   ]
  },
  {
   "cell_type": "code",
   "execution_count": 33,
   "id": "229538a6",
   "metadata": {},
   "outputs": [
    {
     "name": "stderr",
     "output_type": "stream",
     "text": [
      "/var/folders/x9/316v313n6_g8y8_p7fz_v6cw0000gn/T/ipykernel_15504/2153102981.py:1: UserWarning: The given NumPy array is not writable, and PyTorch does not support non-writable tensors. This means writing to this tensor will result in undefined behavior. You may want to copy the array to protect its data or make it writable before converting it to a tensor. This type of warning will be suppressed for the rest of this program. (Triggered internally at  /Users/runner/miniforge3/conda-bld/pytorch-recipe_1664817728005/work/torch/csrc/utils/tensor_numpy.cpp:178.)\n",
      "  torch.from_numpy(jax.device_get(qqtTask.X))\n"
     ]
    },
    {
     "data": {
      "text/plain": [
       "tensor([[ 2.3649e-02, -5.3305e-01,  3.1480e-02,  1.9409e-01, -5.2812e-04,\n",
       "         -4.9748e-01, -2.5254e+00,  2.2739e-01],\n",
       "        [ 9.8557e-01, -9.9344e-01,  1.5102e+00, -1.1146e+00,  4.4280e-04,\n",
       "         -4.2745e-01,  5.4027e-01, -1.0218e+00],\n",
       "        [-6.8251e-01, -2.8279e-01, -1.6071e+00,  3.6906e-01, -2.1273e-04,\n",
       "         -2.8765e-01,  3.4503e-01, -1.8797e+00],\n",
       "        [ 7.9945e-01, -8.8250e-01,  3.8018e-02,  1.5858e+00,  5.2385e-04,\n",
       "          1.6253e+00,  4.3557e-01,  4.8457e-01],\n",
       "        [ 9.6793e-01,  2.2439e+00, -8.1194e-02, -4.7068e-01, -2.3830e-04,\n",
       "          7.7025e-01, -2.8911e-01, -3.5096e-01],\n",
       "        [-2.1220e-01,  7.6319e-01,  6.1436e-01,  1.3283e+00,  5.6979e-05,\n",
       "         -1.8014e+00,  7.5551e-01,  6.4410e-01],\n",
       "        [ 3.1812e-01, -4.7629e-01, -1.3979e+00, -1.3291e+00, -3.7916e-04,\n",
       "         -3.2950e-01,  5.8715e-01,  1.5806e+00],\n",
       "        [-2.2000e+00,  1.6101e-01,  8.9216e-01, -5.6286e-01,  2.0010e-04,\n",
       "          9.4799e-01,  1.5096e-01,  3.1592e-01]])"
      ]
     },
     "execution_count": 33,
     "metadata": {},
     "output_type": "execute_result"
    }
   ],
   "source": [
    "torch.from_numpy(jax.device_get(qqtTask.X))"
   ]
  },
  {
   "cell_type": "code",
   "execution_count": null,
   "id": "33d061d3",
   "metadata": {},
   "outputs": [],
   "source": []
  }
 ],
 "metadata": {
  "kernelspec": {
   "display_name": "Python 3 (ipykernel)",
   "language": "python",
   "name": "python3"
  },
  "language_info": {
   "codemirror_mode": {
    "name": "ipython",
    "version": 3
   },
   "file_extension": ".py",
   "mimetype": "text/x-python",
   "name": "python",
   "nbconvert_exporter": "python",
   "pygments_lexer": "ipython3",
   "version": "3.10.6"
  }
 },
 "nbformat": 4,
 "nbformat_minor": 5
}
