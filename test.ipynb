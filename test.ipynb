{
 "cells": [
  {
   "cell_type": "code",
   "execution_count": 1,
   "metadata": {},
   "outputs": [],
   "source": [
    "import gooseberry as gs\n",
    "from dynamics import QQT\n",
    "from tools import BlindColours, zero_balanced_weights\n",
    "\n",
    "import matplotlib.pyplot as plt\n",
    "import seaborn as sns\n",
    "import numpy as np"
   ]
  },
  {
   "cell_type": "code",
   "execution_count": 8,
   "metadata": {},
   "outputs": [],
   "source": [
    "np.random.seed(1)\n",
    "\n",
    "in_dim = 5\n",
    "hidden_dim = 10\n",
    "out_dim = 2\n",
    "\n",
    "batch_size = 10\n",
    "learning_rate = 0.1\n",
    "training_steps = 400\n",
    "\n",
    "\n",
    "init_w1, init_w2 = zero_balanced_weights(in_dim, hidden_dim, out_dim, 0.35)\n",
    "\n",
    "train, _, _ = gs.datasets.StudentTeacher(batch_size, [init_w1, init_w2], [gs.datasets.Whiten()])"
   ]
  },
  {
   "cell_type": "code",
   "execution_count": 9,
   "metadata": {},
   "outputs": [],
   "source": [
    "\n",
    "task = gs.tasks.FullBatchLearning\n",
    "\n",
    "init_w1, init_w2 = zero_balanced_weights(in_dim, hidden_dim, out_dim, 0.3)"
   ]
  },
  {
   "cell_type": "code",
   "execution_count": 10,
   "metadata": {},
   "outputs": [],
   "source": [
    "loss = gs.MeanSquaredError()\n",
    "optimiser = gs.GradientDescent(learning_rate)"
   ]
  },
  {
   "cell_type": "code",
   "execution_count": 11,
   "metadata": {},
   "outputs": [
    {
     "ename": "AssertionError",
     "evalue": "",
     "output_type": "error",
     "traceback": [
      "\u001b[0;31m---------------------------------------------------------------------------\u001b[0m",
      "\u001b[0;31mAssertionError\u001b[0m                            Traceback (most recent call last)",
      "Cell \u001b[0;32mIn [11], line 2\u001b[0m\n\u001b[1;32m      1\u001b[0m mlp \u001b[38;5;241m=\u001b[39m gs\u001b[38;5;241m.\u001b[39mNetwork([\n\u001b[0;32m----> 2\u001b[0m     \u001b[43mgs\u001b[49m\u001b[38;5;241;43m.\u001b[39;49m\u001b[43mLinear\u001b[49m\u001b[43m(\u001b[49m\u001b[43mhidden_dim\u001b[49m\u001b[43m,\u001b[49m\u001b[43m \u001b[49m\u001b[43mbias\u001b[49m\u001b[38;5;241;43m=\u001b[39;49m\u001b[38;5;28;43;01mFalse\u001b[39;49;00m\u001b[43m,\u001b[49m\u001b[43m \u001b[49m\u001b[43mweight_init\u001b[49m\u001b[38;5;241;43m=\u001b[39;49m\u001b[43mgs\u001b[49m\u001b[38;5;241;43m.\u001b[39;49m\u001b[43minit\u001b[49m\u001b[38;5;241;43m.\u001b[39;49m\u001b[43mFromFixedValue\u001b[49m\u001b[43m(\u001b[49m\u001b[43minit_w1\u001b[49m\u001b[43m)\u001b[49m\u001b[43m)\u001b[49m,\n\u001b[1;32m      3\u001b[0m     gs\u001b[38;5;241m.\u001b[39mLinear(out_dim, bias\u001b[38;5;241m=\u001b[39m\u001b[38;5;28;01mFalse\u001b[39;00m, weight_init\u001b[38;5;241m=\u001b[39mgs\u001b[38;5;241m.\u001b[39minit\u001b[38;5;241m.\u001b[39mFromFixedValue(init_w2))\n\u001b[1;32m      4\u001b[0m ])\n\u001b[1;32m      6\u001b[0m trainer \u001b[38;5;241m=\u001b[39m gs\u001b[38;5;241m.\u001b[39mTrainer(task, mlp, loss, optimiser)\n\u001b[1;32m      7\u001b[0m state, params \u001b[38;5;241m=\u001b[39m gs\u001b[38;5;241m.\u001b[39massemble(\u001b[38;5;241m1\u001b[39m)\n",
      "File \u001b[0;32m~/Desktop/JMC/Year4/Thesis/ExactLearningDynamics/gooseberry/layers.py:32\u001b[0m, in \u001b[0;36mLinear.__new__\u001b[0;34m(cls, out_dim, bias, nonlinearity, weight_init, bias_init)\u001b[0m\n\u001b[1;32m     29\u001b[0m \u001b[38;5;28;01mif\u001b[39;00m \u001b[38;5;28mlen\u001b[39m(in_dim) \u001b[38;5;241m==\u001b[39m \u001b[38;5;241m1\u001b[39m:\n\u001b[1;32m     30\u001b[0m     in_dim \u001b[38;5;241m=\u001b[39m \u001b[38;5;28mint\u001b[39m(in_dim[\u001b[38;5;241m0\u001b[39m])\n\u001b[0;32m---> 32\u001b[0m params[\u001b[38;5;124m\"\u001b[39m\u001b[38;5;124mw\u001b[39m\u001b[38;5;124m\"\u001b[39m] \u001b[38;5;241m=\u001b[39m \u001b[43mweight_init\u001b[49m\u001b[43m(\u001b[49m\u001b[43m(\u001b[49m\u001b[43mout_dim\u001b[49m\u001b[43m,\u001b[49m\u001b[43m \u001b[49m\u001b[43min_dim\u001b[49m\u001b[43m)\u001b[49m\u001b[43m)\u001b[49m\n\u001b[1;32m     33\u001b[0m \u001b[38;5;28;01mif\u001b[39;00m bias:\n\u001b[1;32m     34\u001b[0m     params[\u001b[38;5;124m\"\u001b[39m\u001b[38;5;124mb\u001b[39m\u001b[38;5;124m\"\u001b[39m] \u001b[38;5;241m=\u001b[39m bias_init((out_dim, in_dim))\n",
      "File \u001b[0;32m~/Desktop/JMC/Year4/Thesis/ExactLearningDynamics/gooseberry/init/initialisers.py:10\u001b[0m, in \u001b[0;36mFromFixedValue.<locals>.set_shape\u001b[0;34m(shape)\u001b[0m\n\u001b[1;32m      8\u001b[0m \u001b[38;5;28;01mdef\u001b[39;00m \u001b[38;5;21mset_shape\u001b[39m(shape):\n\u001b[1;32m      9\u001b[0m     shape \u001b[38;5;241m=\u001b[39m np\u001b[38;5;241m.\u001b[39masarray(shape)\n\u001b[0;32m---> 10\u001b[0m     \u001b[38;5;28;01massert\u001b[39;00m \u001b[38;5;28mtuple\u001b[39m(shape) \u001b[38;5;241m==\u001b[39m \u001b[38;5;28mtuple\u001b[39m(value\u001b[38;5;241m.\u001b[39mshape)\n\u001b[1;32m     12\u001b[0m     \u001b[38;5;28;01mdef\u001b[39;00m \u001b[38;5;21minit\u001b[39m(_):\n\u001b[1;32m     13\u001b[0m         \u001b[38;5;28;01mreturn\u001b[39;00m np\u001b[38;5;241m.\u001b[39masarray(value)\n",
      "\u001b[0;31mAssertionError\u001b[0m: "
     ]
    }
   ],
   "source": [
    "mlp = gs.Network([\n",
    "    gs.Linear(hidden_dim, bias=False, weight_init=gs.init.FromFixedValue(init_w1)),\n",
    "    gs.Linear(out_dim, bias=False, weight_init=gs.init.FromFixedValue(init_w2))\n",
    "])\n",
    "\n",
    "trainer = gs.Trainer(task, mlp, loss, optimiser)\n",
    "state, params = gs.assemble(1)\n",
    "\n",
    "losses = []\n",
    "ws = [params[\"network\"][\"layer-1\"][\"w\"] @ params[\"network\"][\"layer-0\"][\"w\"]]\n",
    "\n",
    "for training_step in range(training_steps):\n",
    "    state, params, loss = trainer(state, params)\n",
    "    losses.append(loss)\n",
    "    ws.append(params[\"network\"][\"layer-1\"][\"w\"] @ params[\"network\"][\"layer-0\"][\"w\"])"
   ]
  },
  {
   "cell_type": "code",
   "execution_count": null,
   "metadata": {},
   "outputs": [],
   "source": []
  }
 ],
 "metadata": {
  "kernelspec": {
   "display_name": "tensorflow-env",
   "language": "python",
   "name": "python3"
  },
  "language_info": {
   "codemirror_mode": {
    "name": "ipython",
    "version": 3
   },
   "file_extension": ".py",
   "mimetype": "text/x-python",
   "name": "python",
   "nbconvert_exporter": "python",
   "pygments_lexer": "ipython3",
   "version": "3.10.6"
  }
 },
 "nbformat": 4,
 "nbformat_minor": 2
}
