{
 "cells": [
  {
   "cell_type": "code",
   "execution_count": 5,
   "metadata": {},
   "outputs": [],
   "source": [
    "import gooseberry as gs \n",
    "\n",
    "import seaborn as sns \n",
    "import matplotlib.pyplot as plt \n",
    "import matplotlib as mpl \n",
    "from matplotlib.patches import Ellipse\n",
    "import numpy as np \n",
    "\n",
    "import jax \n",
    "import jax.numpy as jnp\n",
    "from functools import partial \n",
    "\n",
    "from dynamics import QQT\n",
    "from tools import BlindColours, zero_balanced_weights"
   ]
  },
  {
   "cell_type": "code",
   "execution_count": 70,
   "metadata": {},
   "outputs": [],
   "source": [
    "\"\"\"\n",
    "randomly initialised balanced weights of dimensions in_dim, \n",
    "hidden_dim, out_dim and balance coefficient c\n",
    "\"\"\" \n",
    "\n",
    "\n",
    "def balanced_weights(in_dim, hidden_dim, out_dim, c):\n",
    "\n",
    "    #random number bigger than c:\n",
    "    a = np.random.exponential(scale = 5) + c \n",
    "    b = np.sqrt(a*a - c)\n",
    "\n",
    "    #TODO: not sure which dimension, doesnt work for hidden_dim > min(out_dim, in_dim)\n",
    "    S_1 = a * np.eye(max(hidden_dim, in_dim))[:hidden_dim, :in_dim]\n",
    "    S_2 = b * np.eye(max(out_dim, hidden_dim))[:out_dim, :hidden_dim] \n",
    "\n",
    "    random_matrix_one = np.random.rand(hidden_dim, hidden_dim)\n",
    "    random_matrix_two = np.random.rand(in_dim, in_dim)\n",
    "    random_matrix_three = np.random.rand(out_dim, out_dim)\n",
    "\n",
    "    q_one, _ = np.linalg.qr(random_matrix_one)\n",
    "    q_two, _ = np.linalg.qr(random_matrix_two)\n",
    "    q_three, _ = np.linalg.qr(random_matrix_three)\n",
    "\n",
    "    U_1 = q_one \n",
    "    V_2 = q_one \n",
    "    V_1 = q_two\n",
    "    U_2 = q_three\n",
    "\n",
    "    W1 = U_1 @ S_1 @ (V_1.T)\n",
    "    W2 = U_2 @ S_2 @ (V_2.T)\n",
    "\n",
    "    return W1, W2 \n",
    "\n"
   ]
  },
  {
   "cell_type": "markdown",
   "metadata": {},
   "source": []
  },
  {
   "cell_type": "code",
   "execution_count": 60,
   "metadata": {},
   "outputs": [],
   "source": [
    "def check_balance(w1, w2):\n",
    "    return w1 @ w1.T - w2.T @ w2 "
   ]
  },
  {
   "cell_type": "code",
   "execution_count": 107,
   "metadata": {},
   "outputs": [
    {
     "data": {
      "text/plain": [
       "array([[ 5.00000000e+00,  1.80089883e-15,  5.64546627e-16,\n",
       "         2.00029871e-15, -2.13549663e-16, -7.52625464e-16,\n",
       "        -1.14449463e-14,  4.35187177e-15, -1.79663690e-14,\n",
       "        -1.30172139e-14,  7.28404822e-15,  2.93981946e-14,\n",
       "         5.94803701e-16, -2.79037029e-14],\n",
       "       [ 1.80089883e-15,  5.00000000e+00, -1.82892042e-15,\n",
       "         1.22799908e-14,  5.51880362e-15, -3.48643885e-15,\n",
       "         7.08059086e-15,  5.78634336e-15,  2.10497509e-14,\n",
       "         6.36644807e-15, -2.51154781e-15, -5.13163315e-15,\n",
       "        -1.13548990e-14, -7.25385909e-16],\n",
       "       [ 5.64546627e-16, -1.82892042e-15,  5.00000000e+00,\n",
       "         8.51563713e-15,  1.74902427e-14, -2.44616618e-17,\n",
       "        -1.05618638e-14, -2.05222006e-14, -1.63674644e-14,\n",
       "         6.72511536e-15,  1.13486673e-14,  5.75651502e-15,\n",
       "        -9.24661684e-15, -6.98654524e-15],\n",
       "       [ 2.00029871e-15,  1.22799908e-14,  8.51563713e-15,\n",
       "         5.00000000e+00, -9.27347478e-15, -1.89830927e-14,\n",
       "         1.94651675e-15,  1.36677792e-14,  1.32863053e-14,\n",
       "        -7.70284457e-15,  2.30408989e-15, -4.28046648e-15,\n",
       "         1.37711667e-14, -2.19022053e-14],\n",
       "       [-2.13549663e-16,  5.51880362e-15,  1.74902427e-14,\n",
       "        -9.27347478e-15,  5.00000000e+00, -1.03712331e-16,\n",
       "        -1.44215400e-14,  5.46433135e-15, -1.21108957e-14,\n",
       "        -8.60536813e-15, -1.37400319e-14,  2.32416604e-15,\n",
       "         6.91501998e-15, -2.19868592e-16],\n",
       "       [-7.52625464e-16, -3.48643885e-15, -2.44616618e-17,\n",
       "        -1.89830927e-14, -1.03712331e-16,  5.00000000e+00,\n",
       "         1.63234742e-14, -2.42293501e-15, -1.00566128e-14,\n",
       "        -2.20372641e-15, -4.84619367e-15, -5.28990078e-15,\n",
       "         1.34264202e-14, -1.24038983e-14],\n",
       "       [-1.14449463e-14,  7.08059086e-15, -1.05618638e-14,\n",
       "         1.94651675e-15, -1.44215400e-14,  1.63234742e-14,\n",
       "         5.00000000e+00,  2.46116893e-14, -2.94815557e-15,\n",
       "         8.21958516e-15, -1.79937224e-14,  6.02697862e-15,\n",
       "        -7.77711924e-15,  8.40542023e-15],\n",
       "       [ 4.35187177e-15,  5.78634336e-15, -2.05222006e-14,\n",
       "         1.36677792e-14,  5.46433135e-15, -2.42293501e-15,\n",
       "         2.46116893e-14,  5.00000000e+00,  6.92292848e-15,\n",
       "        -3.63119765e-15,  1.22053481e-14, -3.58190835e-15,\n",
       "        -1.91654665e-15,  4.82892414e-15],\n",
       "       [-1.79663690e-14,  2.10497509e-14, -1.63674644e-14,\n",
       "         1.32863053e-14, -1.21108957e-14, -1.00566128e-14,\n",
       "        -2.94815557e-15,  6.92292848e-15,  5.00000000e+00,\n",
       "         8.67489391e-15, -4.96795752e-15,  2.10378460e-14,\n",
       "        -2.90227814e-15,  2.26130332e-14],\n",
       "       [-1.30172139e-14,  6.36644807e-15,  6.72511536e-15,\n",
       "        -7.70284457e-15, -8.60536813e-15, -2.20372641e-15,\n",
       "         8.21958516e-15, -3.63119765e-15,  8.67489391e-15,\n",
       "         5.00000000e+00, -5.76194885e-15,  1.01043928e-17,\n",
       "         5.93120452e-15, -3.88091160e-15],\n",
       "       [ 7.28404822e-15, -2.51154781e-15,  1.13486673e-14,\n",
       "         2.30408989e-15, -1.37400319e-14, -4.84619367e-15,\n",
       "        -1.79937224e-14,  1.22053481e-14, -4.96795752e-15,\n",
       "        -5.76194885e-15,  5.00000000e+00,  5.14180867e-15,\n",
       "        -4.40884670e-15, -8.19668619e-15],\n",
       "       [ 2.93981946e-14, -5.13163315e-15,  5.75651502e-15,\n",
       "        -4.28046648e-15,  2.32416604e-15, -5.28990078e-15,\n",
       "         6.02697862e-15, -3.58190835e-15,  2.10378460e-14,\n",
       "         1.01043928e-17,  5.14180867e-15,  5.00000000e+00,\n",
       "        -5.44985843e-15, -1.45204685e-14],\n",
       "       [ 5.94803701e-16, -1.13548990e-14, -9.24661684e-15,\n",
       "         1.37711667e-14,  6.91501998e-15,  1.34264202e-14,\n",
       "        -7.77711924e-15, -1.91654665e-15, -2.90227814e-15,\n",
       "         5.93120452e-15, -4.40884670e-15, -5.44985843e-15,\n",
       "         5.00000000e+00, -1.03229947e-14],\n",
       "       [-2.79037029e-14, -7.25385909e-16, -6.98654524e-15,\n",
       "        -2.19022053e-14, -2.19868592e-16, -1.24038983e-14,\n",
       "         8.40542023e-15,  4.82892414e-15,  2.26130332e-14,\n",
       "        -3.88091160e-15, -8.19668619e-15, -1.45204685e-14,\n",
       "        -1.03229947e-14,  5.00000000e+00]])"
      ]
     },
     "execution_count": 107,
     "metadata": {},
     "output_type": "execute_result"
    }
   ],
   "source": [
    "w1, w2 = balanced_weights(14, 14, 14, 5)\n",
    "\n",
    "check_balance(w1, w2)"
   ]
  },
  {
   "cell_type": "markdown",
   "metadata": {},
   "source": [
    "Task: Plot representations for balanced weights when task is learned"
   ]
  },
  {
   "cell_type": "code",
   "execution_count": 73,
   "metadata": {},
   "outputs": [],
   "source": [
    "bc = BlindColours()\n",
    "blind_colours = bc.get_colours()\n",
    "div_cmap = bc.get_div_cmap()"
   ]
  },
  {
   "cell_type": "code",
   "execution_count": 74,
   "metadata": {},
   "outputs": [],
   "source": [
    "def logs(params, X, Y, out_dim):\n",
    "    w1 = params[\"network\"][\"layer-0\"][\"w\"][0]\n",
    "    w2 = params[\"network\"][\"layer-1\"][\"w\"][0]\n",
    "    w2w1 = w2 @ w1\n",
    "    w1w1 = w1.T @ w1\n",
    "    w2w2 = w2 @ w2.T\n",
    "    return w2w1, w1w1, w2w2\n",
    "\n",
    "logs = jax.jit(logs)"
   ]
  },
  {
   "cell_type": "code",
   "execution_count": 110,
   "metadata": {},
   "outputs": [],
   "source": [
    "np.random.seed(1)\n",
    "\n",
    "in_dim = 8\n",
    "hidden_dim = 8\n",
    "out_dim = 8\n",
    "cs = [0, 0.5, 2, 10]\n",
    "learning_rate = 0.05\n",
    "training_steps = 2000\n",
    "\n",
    "training_data, _, _ = gs.datasets.Hierarchy(False, True)\n",
    "\n",
    "network_functions = []\n",
    "w1w1s = []\n",
    "w2w2s = []\n",
    "lossess = []\n",
    "\n",
    "\n",
    "for c in cs:\n",
    "    w1_init, w2_init = balanced_weights(in_dim, hidden_dim, out_dim, c)\n",
    "    w1_init, w2_init = gs.init.FromFixedValue(w1_init), gs.init.FromFixedValue(w2_init)\n",
    "\n",
    "    network_function = []\n",
    "    w1w1 = []\n",
    "    w2w2 = []\n",
    "    losses = []\n",
    "\n",
    "    X, Y = training_data(None)\n",
    "\n",
    "    task = gs.tasks.FullBatchLearning(training_data)\n",
    "    optimiser = gs.GradientDescent(learning_rate)\n",
    "    loss_fnct = gs.MeanSquaredError()\n",
    "\n",
    "    mlp = gs.Network([\n",
    "        gs.Linear(hidden_dim, bias = False, weight_init=w1_init),\n",
    "        gs.Linear(out_dim, bias = False, weight_init=w2_init)\n",
    "    ])\n",
    "\n",
    "    trainer = gs.Trainer(task, mlp, loss_fnct, optimiser)\n",
    "    state, params = gs.assemble(1)\n",
    "\n",
    "    w1 = params[\"network\"][\"layer-0\"][\"w\"][0]\n",
    "    w2 = params[\"network\"][\"layer-1\"][\"w\"][0]\n",
    "    network_function.append(w2 @ w1)\n",
    "    w1w1.append(w1.T @ w1)\n",
    "    w2w2.append(w2 @ w2.T)\n",
    "\n",
    "    for training_step in range(training_steps):\n",
    "        state, params, loss = trainer(state, params)\n",
    "        w2w1_, w1w1_, w2w2_ = logs(params, X, Y, out_dim)\n",
    "        network_function.append(w2w1_)\n",
    "        w1w1.append(w1w1_)\n",
    "        w2w2.append(w2w2_)\n",
    "        losses.append(1./8. * loss)\n",
    "    \n",
    "    network_functions.append(network_function)\n",
    "    w1w1s.append(w1w1)\n",
    "    w2w2s.append(w2w2)\n",
    "    losses.append(losses)\n",
    "\n"
   ]
  },
  {
   "cell_type": "code",
   "execution_count": 92,
   "metadata": {},
   "outputs": [
    {
     "data": {
      "text/plain": [
       "[<matplotlib.lines.Line2D at 0x116209930>]"
      ]
     },
     "execution_count": 92,
     "metadata": {},
     "output_type": "execute_result"
    },
    {
     "data": {
      "image/png": "[encoded data removed]",
      "text/plain": [
       "<Figure size 640x480 with 1 Axes>"
      ]
     },
     "metadata": {},
     "output_type": "display_data"
    }
   ],
   "source": [
    "plt.plot(losses)"
   ]
  },
  {
   "cell_type": "code",
   "execution_count": 94,
   "metadata": {},
   "outputs": [],
   "source": [
    "def arange_svd(Y, u, vt):\n",
    "    sort = np.sign(np.abs(np.round(Y.T @ vt.T)))\n",
    "    idxs = np.where(sort == 1)[1]\n",
    "    u = u @ sort.T\n",
    "    sgn = np.diag(np.sign(np.sum(u, axis=0)))\n",
    "    u = sgn.T @ u\n",
    "    vt = sort @ vt\n",
    "    vt = sgn @ vt\n",
    "    return u, vt"
   ]
  },
  {
   "cell_type": "code",
   "execution_count": 111,
   "metadata": {},
   "outputs": [
    {
     "data": {
      "image/png": "[encoded data removed]",
      "text/plain": [
       "<Figure size 1100x350 with 5 Axes>"
      ]
     },
     "metadata": {},
     "output_type": "display_data"
    }
   ],
   "source": [
    "labels = [\"Lambda = 0\", \"Lambda = 0.5\", \"lambda = 2\", \"lambda = 10\"]\n",
    "\n",
    "\n",
    "\n",
    "fig, axs = plt.subplots(1, 4, figsize=(11, 3.5), sharex=True, sharey=True)\n",
    "fig.suptitle(\"Representations for Balanced Weights\")\n",
    "for i, label in enumerate(labels):\n",
    "    qqt = np.vstack([\n",
    "        np.hstack([w1w1s[i][-1], network_functions[i][-1].T]),\n",
    "        np.hstack([network_functions[i][-1], w2w2s[i][-1]])\n",
    "    ])\n",
    "    vals = axs[i].matshow(1./8. * qqt, cmap=div_cmap, vmin=-1./8. * 4, vmax=1./8. * 4)\n",
    "    axs[i].set_xticks([])\n",
    "    axs[i].set_yticks([])\n",
    "    axs[i].set_title(label, pad=15.)\n",
    "\n",
    "for ax in axs:\n",
    "    ax.set_xlabel(\"Input    Output\")\n",
    "axs[0].set_ylabel(\"Output    Input\")\n",
    "    \n",
    "for ax, c in zip(axs, colours):\n",
    "    for spine in ax.spines.values():\n",
    "        spine.set_edgecolor(c)\n",
    "        spine.set_linewidth(3.5)\n",
    "\n",
    "fig.subplots_adjust(right=0.85)\n",
    "cbar_ax = fig.add_axes([0.89, 0.1625, 0.017, 0.675])\n",
    "cbar = fig.colorbar(vals, cax=cbar_ax)\n",
    "cbar.ax.set_yticks([-0.4, 0., 0.4])\n",
    "fig.savefig(\"./figures/figure-3_c-d-e.svg\")"
   ]
  },
  {
   "cell_type": "code",
   "execution_count": null,
   "metadata": {},
   "outputs": [],
   "source": []
  }
 ],
 "metadata": {
  "kernelspec": {
   "display_name": "tensorflow-env",
   "language": "python",
   "name": "python3"
  },
  "language_info": {
   "codemirror_mode": {
    "name": "ipython",
    "version": 3
   },
   "file_extension": ".py",
   "mimetype": "text/x-python",
   "name": "python",
   "nbconvert_exporter": "python",
   "pygments_lexer": "ipython3",
   "version": "3.10.6"
  }
 },
 "nbformat": 4,
 "nbformat_minor": 2
}
