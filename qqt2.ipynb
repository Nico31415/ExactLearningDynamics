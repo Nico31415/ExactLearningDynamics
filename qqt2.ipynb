{
 "cells": [
  {
   "cell_type": "code",
   "execution_count": 5,
   "metadata": {},
   "outputs": [],
   "source": [
    "import gooseberry as gs \n",
    "\n",
    "import seaborn as sns \n",
    "import matplotlib.pyplot as plt \n",
    "import matplotlib as mpl \n",
    "from matplotlib.patches import Ellipse\n",
    "import numpy as np \n",
    "\n",
    "import jax \n",
    "import jax.numpy as jnp\n",
    "from functools import partial \n",
    "\n",
    "from dynamics import QQT\n",
    "from tools import BlindColours, zero_balanced_weights"
   ]
  },
  {
   "cell_type": "code",
   "execution_count": 70,
   "metadata": {},
   "outputs": [],
   "source": [
    "\"\"\"\n",
    "randomly initialised balanced weights of dimensions in_dim, \n",
    "hidden_dim, out_dim and balance coefficient c\n",
    "\"\"\" \n",
    "\n",
    "\n",
    "def balanced_weights(in_dim, hidden_dim, out_dim, c):\n",
    "\n",
    "    #random number bigger than c:\n",
    "    a = np.random.exponential(scale = 5) + c \n",
    "    b = np.sqrt(a*a - c)\n",
    "\n",
    "    #TODO: not sure which dimension, doesnt work for hidden_dim > min(out_dim, in_dim)\n",
    "    S_1 = a * np.eye(max(hidden_dim, in_dim))[:hidden_dim, :in_dim]\n",
    "    S_2 = b * np.eye(max(out_dim, hidden_dim))[:out_dim, :hidden_dim] \n",
    "\n",
    "    random_matrix_one = np.random.rand(hidden_dim, hidden_dim)\n",
    "    random_matrix_two = np.random.rand(in_dim, in_dim)\n",
    "    random_matrix_three = np.random.rand(out_dim, out_dim)\n",
    "\n",
    "    q_one, _ = np.linalg.qr(random_matrix_one)\n",
    "    q_two, _ = np.linalg.qr(random_matrix_two)\n",
    "    q_three, _ = np.linalg.qr(random_matrix_three)\n",
    "\n",
    "    U_1 = q_one \n",
    "    V_2 = q_one \n",
    "    V_1 = q_two\n",
    "    U_2 = q_three\n",
    "\n",
    "    W1 = U_1 @ S_1 @ (V_1.T)\n",
    "    W2 = U_2 @ S_2 @ (V_2.T)\n",
    "\n",
    "    return W1, W2 \n",
    "\n"
   ]
  },
  {
   "cell_type": "markdown",
   "metadata": {},
   "source": []
  },
  {
   "cell_type": "code",
   "execution_count": 60,
   "metadata": {},
   "outputs": [],
   "source": [
    "def check_balance(w1, w2):\n",
    "    return w1 @ w1.T - w2.T @ w2 "
   ]
  },
  {
   "cell_type": "code",
   "execution_count": 72,
   "metadata": {},
   "outputs": [
    {
     "data": {
      "text/plain": [
       "array([[ 5.00000000e+00, -1.58929512e-14],\n",
       "       [-1.58929512e-14,  5.00000000e+00]])"
      ]
     },
     "execution_count": 72,
     "metadata": {},
     "output_type": "execute_result"
    }
   ],
   "source": [
    "w1, w2 = balanced_weights(10, 2, 10, 5)\n",
    "\n",
    "check_balance(w1, w2)"
   ]
  },
  {
   "cell_type": "code",
   "execution_count": null,
   "metadata": {},
   "outputs": [],
   "source": []
  }
 ],
 "metadata": {
  "kernelspec": {
   "display_name": "tensorflow-env",
   "language": "python",
   "name": "python3"
  },
  "language_info": {
   "codemirror_mode": {
    "name": "ipython",
    "version": 3
   },
   "file_extension": ".py",
   "mimetype": "text/x-python",
   "name": "python",
   "nbconvert_exporter": "python",
   "pygments_lexer": "ipython3",
   "version": "3.10.6"
  }
 },
 "nbformat": 4,
 "nbformat_minor": 2
}
