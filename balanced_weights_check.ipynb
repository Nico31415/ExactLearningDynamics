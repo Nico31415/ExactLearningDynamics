{
 "cells": [
  {
   "cell_type": "code",
   "execution_count": 1,
   "metadata": {},
   "outputs": [],
   "source": [
    "import numpy as np\n",
    "from utils import reshape_matrix"
   ]
  },
  {
   "cell_type": "code",
   "execution_count": 2,
   "metadata": {},
   "outputs": [],
   "source": [
    "def balanced_weights(in_dim, hidden_dim, out_dim, sigma = 1):\n",
    "    U, S, V = np.linalg.svd(np.random.randn(hidden_dim, hidden_dim))\n",
    "    r = U @ V.T\n",
    "\n",
    "    w1 = sigma * np.random.randn(hidden_dim, in_dim)\n",
    "    w2 = sigma * np.random.randn(out_dim, hidden_dim)\n",
    "\n",
    "    U_, S_, V_ = np.linalg.svd(w2 @ w1)\n",
    "    s = np.sqrt(np.diag(S_))\n",
    "\n",
    "    lmda = np.trace(w2 @ w1) / hidden_dim\n",
    "\n",
    "    factor = (- lmda + np.sqrt(lmda ** 2 + 4 * s ** 2)) / 2\n",
    "\n",
    "    s_2 = np.sqrt(np.diag(np.diag(factor)))\n",
    "\n",
    "    s2_reshaped = reshape_matrix(s_2, (out_dim, hidden_dim))\n",
    "\n",
    "    s_1 = np.diag(np.diag(s) / np.diag(s_2))\n",
    "\n",
    "    s1_reshaped = reshape_matrix(s_1, (hidden_dim, in_dim))\n",
    "\n",
    "    S_test = s2_reshaped @ s1_reshaped\n",
    "\n",
    "    w1_out = r @ s1_reshaped @ V_.T \n",
    "\n",
    "    w2_out = U_ @ s2_reshaped @ r.T\n",
    "\n",
    "    q = w1_out @ w1_out.T - w2_out.T @ w2_out\n",
    "\n",
    "    scale_by = lmda / q[0][0]\n",
    "    w1_out = scale_by * w1_out\n",
    "    w2_out = scale_by * w2_out\n",
    "    q = w1_out @ w1_out.T - w2_out.T @ w2_out\n",
    "\n",
    "    return w1_out, w2_out, S_test, q"
   ]
  },
  {
   "cell_type": "code",
   "execution_count": null,
   "metadata": {},
   "outputs": [],
   "source": []
  }
 ],
 "metadata": {
  "kernelspec": {
   "display_name": "dgl-env",
   "language": "python",
   "name": "python3"
  },
  "language_info": {
   "codemirror_mode": {
    "name": "ipython",
    "version": 3
   },
   "file_extension": ".py",
   "mimetype": "text/x-python",
   "name": "python",
   "nbconvert_exporter": "python",
   "pygments_lexer": "ipython3",
   "version": "3.11.8"
  }
 },
 "nbformat": 4,
 "nbformat_minor": 2
}
